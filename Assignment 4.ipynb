{
 "cells": [
  {
   "cell_type": "raw",
   "id": "8b03d3f1",
   "metadata": {},
   "source": [
    "1. What exactly is []?\n",
    "Ans: [] square bracket is to use create list.\n",
    "\n",
    "2. In a list of values stored in a variable called spam, how would you assign the value 'hello' as the third value? (Assume [2, 4, 6, 8, 10] are in spam.)Lets pretend the spam includes the list ['a','b','c','d'] for the next three queries.\n",
    "Ans: spam=[2, 4, 6, 8, 10] \n",
    "spam.append('hello')\n",
    "spam.append(['a','b','c','d'])\n",
    "\n",
    "3. What is the value of spam[int(int('3' * 2) / 11)]?\n",
    "Ans: 8\n",
    "\n",
    "4. What is the value of spam[-1]?\n",
    "Ans: ['a', 'b', 'c', 'd']\n",
    "\n",
    "5. What is the value of spam[:2]?\n",
    "Ans: [2, 4]\n",
    "\n",
    "Let's pretend bacon has the list [3.14, 'cat,' 11, 'cat,' True] for the next three questions.\n",
    "\n",
    "6. What is the value of bacon.index('cat')?\n",
    "Ans: 1\n",
    "\n",
    "7. How does bacon.append(99) change the look of the list value in bacon?\n",
    "Ans: [3.14, 'cat', 11, 'cat', True,99]\n",
    "\n",
    "8. How does bacon.remove('cat') change the look of the list in bacon?\n",
    "Ans: [3.14, 11, 'cat,' True,99]\n",
    "\n",
    "9. What are the list concatenation and list replication operators?\n",
    "Ans: The operator for list concatenation is +, while the operator for replication is *.\n",
    "\n",
    "10. What is difference between the list methods append() and insert()?\n",
    "Ans: While append() will add values only to the end of a list, insert() can add them anywhere in the list.\n",
    "\n",
    "11. What are the two methods for removing items from a list?\n",
    "Ans: The del statement and the remove() list method are two ways to remove values from a list.\n",
    "\n",
    "12. Describe how list values and string values are identical.\n",
    "Ans: Both lists and strings can be passed to len(), have indexes and slices, be used in for loops, be concatenated or replicated, and be used with the in and not in operators.\n",
    "\n",
    "13. What's the difference between tuples and lists?\n",
    "Ans: Lists are mutable; they can have values added, removed, or changed. Tuples are immutable; they cannot be changed at all. Also, tuples are written using parentheses, ( and ), while lists use the square brackets, [ and ]\n",
    "\n",
    "14. How do you type a tuple value that only contains the integer 42?\n",
    "Ans: t=(42,)\n",
    "\n",
    "15. How do you get a list value's tuple form? How do you get a tuple value's list form?\n",
    "Ans: tuple() for thr first one and list() is for second one.\n",
    "\n",
    "16. Variables that \"contain\" list values are not necessarily lists themselves. Instead, what do they contain?\n",
    "Ans: ref. to list values.\n",
    "\n",
    "17. How do you distinguish between copy.copy() and copy.deepcopy()?\n",
    "Ans: The copy.copy() function will do a shallow copy of a list, while the copy.deepcopy() function will do a deep copy of a list. That is, only copy.deepcopy() will duplicate any lists inside the list."
   ]
  },
  {
   "cell_type": "code",
   "execution_count": 3,
   "id": "488c14ee",
   "metadata": {},
   "outputs": [],
   "source": [
    "spam=[2, 4, 6, 8, 10] \n",
    "spam.append('hello')\n",
    "spam.append(['a','b','c','d'])"
   ]
  },
  {
   "cell_type": "code",
   "execution_count": 4,
   "id": "7a654daa",
   "metadata": {},
   "outputs": [
    {
     "data": {
      "text/plain": [
       "[2, 4, 6, 8, 10, 'hello', ['a', 'b', 'c', 'd']]"
      ]
     },
     "execution_count": 4,
     "metadata": {},
     "output_type": "execute_result"
    }
   ],
   "source": [
    "spam"
   ]
  },
  {
   "cell_type": "code",
   "execution_count": 5,
   "id": "ca6bbba6",
   "metadata": {},
   "outputs": [
    {
     "data": {
      "text/plain": [
       "8"
      ]
     },
     "execution_count": 5,
     "metadata": {},
     "output_type": "execute_result"
    }
   ],
   "source": [
    "spam[int(int('3' * 2) / 11)]"
   ]
  },
  {
   "cell_type": "code",
   "execution_count": 8,
   "id": "042ab29f",
   "metadata": {},
   "outputs": [
    {
     "data": {
      "text/plain": [
       "['a', 'b', 'c', 'd']"
      ]
     },
     "execution_count": 8,
     "metadata": {},
     "output_type": "execute_result"
    }
   ],
   "source": [
    "spam[-1]"
   ]
  },
  {
   "cell_type": "code",
   "execution_count": 9,
   "id": "ffdc9e01",
   "metadata": {},
   "outputs": [
    {
     "data": {
      "text/plain": [
       "[2, 4]"
      ]
     },
     "execution_count": 9,
     "metadata": {},
     "output_type": "execute_result"
    }
   ],
   "source": [
    "spam[:2]"
   ]
  },
  {
   "cell_type": "code",
   "execution_count": 10,
   "id": "a27f2490",
   "metadata": {},
   "outputs": [],
   "source": [
    "becon=[3.14, 'cat', 11, 'cat', True]"
   ]
  },
  {
   "cell_type": "code",
   "execution_count": 11,
   "id": "9426e2ac",
   "metadata": {},
   "outputs": [
    {
     "data": {
      "text/plain": [
       "1"
      ]
     },
     "execution_count": 11,
     "metadata": {},
     "output_type": "execute_result"
    }
   ],
   "source": [
    "becon.index('cat')"
   ]
  },
  {
   "cell_type": "code",
   "execution_count": 12,
   "id": "27ef6061",
   "metadata": {},
   "outputs": [],
   "source": [
    "becon.remove('cat')"
   ]
  },
  {
   "cell_type": "code",
   "execution_count": 13,
   "id": "17496a91",
   "metadata": {},
   "outputs": [
    {
     "data": {
      "text/plain": [
       "[3.14, 11, 'cat', True]"
      ]
     },
     "execution_count": 13,
     "metadata": {},
     "output_type": "execute_result"
    }
   ],
   "source": [
    "becon"
   ]
  },
  {
   "cell_type": "code",
   "execution_count": 14,
   "id": "358a1413",
   "metadata": {},
   "outputs": [],
   "source": [
    "becon.append(99)"
   ]
  },
  {
   "cell_type": "code",
   "execution_count": 15,
   "id": "a11f5cf0",
   "metadata": {},
   "outputs": [
    {
     "data": {
      "text/plain": [
       "[3.14, 11, 'cat', True, 99]"
      ]
     },
     "execution_count": 15,
     "metadata": {},
     "output_type": "execute_result"
    }
   ],
   "source": [
    "becon"
   ]
  },
  {
   "cell_type": "code",
   "execution_count": 16,
   "id": "312d3e84",
   "metadata": {},
   "outputs": [],
   "source": [
    "becon.insert(0,34)"
   ]
  },
  {
   "cell_type": "code",
   "execution_count": 17,
   "id": "99c28751",
   "metadata": {},
   "outputs": [
    {
     "data": {
      "text/plain": [
       "[34, 3.14, 11, 'cat', True, 99]"
      ]
     },
     "execution_count": 17,
     "metadata": {},
     "output_type": "execute_result"
    }
   ],
   "source": [
    "becon"
   ]
  },
  {
   "cell_type": "code",
   "execution_count": 18,
   "id": "04bcb737",
   "metadata": {},
   "outputs": [],
   "source": [
    "becon.remove(34)"
   ]
  },
  {
   "cell_type": "code",
   "execution_count": 20,
   "id": "70a682c8",
   "metadata": {},
   "outputs": [],
   "source": [
    "a=[3,4,4,6,7,5]"
   ]
  },
  {
   "cell_type": "code",
   "execution_count": 21,
   "id": "235ce3d0",
   "metadata": {},
   "outputs": [],
   "source": [
    "del a"
   ]
  },
  {
   "cell_type": "code",
   "execution_count": 22,
   "id": "abcb3b53",
   "metadata": {},
   "outputs": [
    {
     "ename": "NameError",
     "evalue": "name 'a' is not defined",
     "output_type": "error",
     "traceback": [
      "\u001b[1;31m---------------------------------------------------------------------------\u001b[0m",
      "\u001b[1;31mNameError\u001b[0m                                 Traceback (most recent call last)",
      "Input \u001b[1;32mIn [22]\u001b[0m, in \u001b[0;36m<cell line: 1>\u001b[1;34m()\u001b[0m\n\u001b[1;32m----> 1\u001b[0m \u001b[43ma\u001b[49m\n",
      "\u001b[1;31mNameError\u001b[0m: name 'a' is not defined"
     ]
    }
   ],
   "source": [
    "a"
   ]
  },
  {
   "cell_type": "code",
   "execution_count": 25,
   "id": "c2eb6d1a",
   "metadata": {},
   "outputs": [],
   "source": [
    "t=(42,)"
   ]
  },
  {
   "cell_type": "code",
   "execution_count": 26,
   "id": "f6d33ab9",
   "metadata": {},
   "outputs": [
    {
     "data": {
      "text/plain": [
       "(42,)"
      ]
     },
     "execution_count": 26,
     "metadata": {},
     "output_type": "execute_result"
    }
   ],
   "source": [
    "t"
   ]
  },
  {
   "cell_type": "code",
   "execution_count": 27,
   "id": "c608aa2c",
   "metadata": {},
   "outputs": [
    {
     "data": {
      "text/plain": [
       "[2, 4, 6, 8, 10, 'hello', ['a', 'b', 'c', 'd']]"
      ]
     },
     "execution_count": 27,
     "metadata": {},
     "output_type": "execute_result"
    }
   ],
   "source": [
    "spam"
   ]
  },
  {
   "cell_type": "code",
   "execution_count": 28,
   "id": "1742a760",
   "metadata": {},
   "outputs": [
    {
     "data": {
      "text/plain": [
       "[3.14, 11, 'cat', True, 99]"
      ]
     },
     "execution_count": 28,
     "metadata": {},
     "output_type": "execute_result"
    }
   ],
   "source": [
    "becon"
   ]
  },
  {
   "cell_type": "code",
   "execution_count": 34,
   "id": "ff481319",
   "metadata": {},
   "outputs": [],
   "source": [
    "import copy\n",
    "spamCopy=copy.copy(spam)\n",
    "spamCopy1=copy.deepcopy(spam)"
   ]
  },
  {
   "cell_type": "code",
   "execution_count": 35,
   "id": "002cfd21",
   "metadata": {},
   "outputs": [
    {
     "data": {
      "text/plain": [
       "[2, 4, 6, 8, 10, 'hello', ['a', 'b', 'c', 'd']]"
      ]
     },
     "execution_count": 35,
     "metadata": {},
     "output_type": "execute_result"
    }
   ],
   "source": [
    "spamCopy"
   ]
  },
  {
   "cell_type": "code",
   "execution_count": 36,
   "id": "f57804e8",
   "metadata": {},
   "outputs": [
    {
     "data": {
      "text/plain": [
       "[2, 4, 6, 8, 10, 'hello', ['a', 'b', 'c', 'd']]"
      ]
     },
     "execution_count": 36,
     "metadata": {},
     "output_type": "execute_result"
    }
   ],
   "source": [
    "spamCopy1"
   ]
  },
  {
   "cell_type": "code",
   "execution_count": null,
   "id": "a448663a",
   "metadata": {},
   "outputs": [],
   "source": []
  }
 ],
 "metadata": {
  "kernelspec": {
   "display_name": "Python 3 (ipykernel)",
   "language": "python",
   "name": "python3"
  },
  "language_info": {
   "codemirror_mode": {
    "name": "ipython",
    "version": 3
   },
   "file_extension": ".py",
   "mimetype": "text/x-python",
   "name": "python",
   "nbconvert_exporter": "python",
   "pygments_lexer": "ipython3",
   "version": "3.9.12"
  }
 },
 "nbformat": 4,
 "nbformat_minor": 5
}
