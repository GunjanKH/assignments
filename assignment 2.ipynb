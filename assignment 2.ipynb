{
 "cells": [
  {
   "cell_type": "raw",
   "id": "f7c2a001",
   "metadata": {},
   "source": [
    "Q1.What are the two values of the Boolean data type? How do you write them?\n",
    "Ans true and false is two values of the Boolena data type. True/False"
   ]
  },
  {
   "cell_type": "raw",
   "id": "571a3dff",
   "metadata": {},
   "source": [
    " Q2. What are the three different types of Boolean operators?\n",
    "Ans \n",
    " 1. Comparision Operator\n",
    " 2. Logical Operator\n",
    " 3. Chaining Operator"
   ]
  },
  {
   "cell_type": "raw",
   "id": "0da26e70",
   "metadata": {},
   "source": [
    "3. Make a list of each Boolean operator's truth tables (i.e. every possible combination of Boolean values for the operator and what it evaluate ).\n",
    "Ans\n",
    "Truth table fot AND operator\n",
    "1. False and False = False\n",
    "2. False and True  = False\n",
    "3. True and False  = False\n",
    "4. True and True   = True\n",
    "\n",
    "Truth Table for OR operator\n",
    "1. False or False = False\n",
    "2. False or True  = True\n",
    "3. True or False  = True\n",
    "4. True or True   = True\n",
    "\n",
    "Truth Table for NOT operator\n",
    "1. Truth ------ False\n",
    "2. False ------ True\n"
   ]
  },
  {
   "cell_type": "raw",
   "id": "16e33a48",
   "metadata": {},
   "source": [
    "4. What are the values of the following expressions?\n",
    "(5 > 4) and (3 == 5)\n",
    "not (5 > 4)\n",
    "(5 > 4) or (3 == 5)\n",
    "not ((5 > 4) or (3 == 5))\n",
    "(True and True) and (True == False)\n",
    "(not False) or (not True)\n",
    "\n",
    "ANS\n",
    "(5 > 4) and (3 == 5) ----------------- False\n",
    "not (5 > 4)--------------------------- False\n",
    "(5 > 4) or (3 == 5)------------------- True\n",
    "not ((5 > 4) or (3 == 5))------------- False\n",
    "(True and True) and (True == False)--- False\n",
    "(not False) or (not True)------------- True"
   ]
  },
  {
   "cell_type": "raw",
   "id": "7f39a5a9",
   "metadata": {},
   "source": [
    "5. What are the six comparison operators?\n",
    "ANS\n",
    "1. Equal to ------------------- ==\n",
    "2. Not equal to --------------- !=\n",
    "3. Less than ------------------ <\n",
    "4. Greater than --------------- >\n",
    "5. Less than or equal to------- <=\n",
    "6. Greater than or equal to --- >="
   ]
  },
  {
   "cell_type": "raw",
   "id": "40f64690",
   "metadata": {},
   "source": [
    "6. How do you tell the difference between the equal to and assignment operators?Describe a condition and when you would use \n",
    "one.\n",
    "ANS\n",
    "Equal to sign noted by \"==\" and assignment operator denote by \"=\".\n",
    "Example:\n",
    "1. for Equal to sign\n",
    "    if a==b:\n",
    "        print(\"Condition is True\")\n",
    "        \n",
    "2. for Assignment operator\n",
    "    a=10\n",
    "    b=10"
   ]
  },
  {
   "cell_type": "code",
   "execution_count": 3,
   "id": "72ab0e37",
   "metadata": {},
   "outputs": [
    {
     "name": "stdout",
     "output_type": "stream",
     "text": [
      "ham\n",
      "spam\n",
      "spam\n"
     ]
    }
   ],
   "source": [
    "#7. Identify the three blocks in this code:\n",
    "#spam = 0\n",
    "#if spam == 10:\n",
    "#print('eggs')\n",
    "#if spam > 5:\n",
    "#print('bacon')\n",
    "#else:\n",
    "#print('ham')\n",
    "#print('spam')\n",
    "#print('spam')\n",
    "\n",
    "#ANS \n",
    "#Above code has indendation issue. solution is given below\n",
    "\n",
    "spam = 0\n",
    "if spam == 10:\n",
    "    print('eggs')\n",
    "if spam > 5:\n",
    "    print('bacon')\n",
    "else:\n",
    "    print('ham')\n",
    "    print('spam')\n",
    "    print('spam')\n"
   ]
  },
  {
   "cell_type": "code",
   "execution_count": 7,
   "id": "dcdba444",
   "metadata": {},
   "outputs": [
    {
     "name": "stdout",
     "output_type": "stream",
     "text": [
      "Greetings\n"
     ]
    }
   ],
   "source": [
    "#8. Write code that prints Hello if 1 is stored in spam, prints Howdy if 2 is stored in spam, and prints Greetings! \n",
    "#if anything else is stored in spam.\n",
    "\n",
    "spam = 10\n",
    "if spam == 1:\n",
    "    print('Hello')\n",
    "elif spam == 2:\n",
    "    print('Howdy')\n",
    "else:\n",
    "    print('Greetings')\n",
    "\n"
   ]
  },
  {
   "cell_type": "code",
   "execution_count": 8,
   "id": "2af789d0",
   "metadata": {},
   "outputs": [],
   "source": [
    "# 9.If your programme is stuck in an endless loop, what keys you’ll press?\n",
    "# Cntl + C"
   ]
  },
  {
   "cell_type": "code",
   "execution_count": 1,
   "id": "07468a40",
   "metadata": {},
   "outputs": [],
   "source": [
    "# 10. How can you tell the difference between break and continue?\n",
    "# Break is to break the loop when a contion is satisfied. Continue is the word to use when a\n",
    "# condition is fulfilled but we dont want to perform any operation but still want to continue. "
   ]
  },
  {
   "cell_type": "code",
   "execution_count": 1,
   "id": "c7519fbf",
   "metadata": {},
   "outputs": [],
   "source": [
    "#11. In a for loop, what is the difference between range(10), range(0, 10), and range(0, 10, 1)?\n",
    "# range(10) : this means loop will go from 0 to 9.here by default start point is 0.\n",
    "# range(0,10) : this means the loop will go from 0 to 9. here we can provide the starting point\n",
    "# if we like to.\n",
    "# range(0,10,1): this means loop will start from 0 go till 9 with the jump of 1. \n",
    "# in this wee can provide start point which 0 here and jump rate which is 1 here."
   ]
  },
  {
   "cell_type": "code",
   "execution_count": 4,
   "id": "c6afc835",
   "metadata": {},
   "outputs": [
    {
     "name": "stdout",
     "output_type": "stream",
     "text": [
      "This is result of for loop\n",
      "1\n",
      "2\n",
      "3\n",
      "4\n",
      "5\n",
      "6\n",
      "7\n",
      "8\n",
      "9\n",
      "10\n",
      "This is the result of while loop\n",
      "1\n",
      "2\n",
      "3\n",
      "4\n",
      "5\n",
      "6\n",
      "7\n",
      "8\n",
      "9\n",
      "10\n"
     ]
    }
   ],
   "source": [
    "#12. Write a short program that prints the numbers 1 to 10 using a for loop. \n",
    "#Then write an equivalent program that prints the numbers 1 to 10 using a while loop.\n",
    "\n",
    "print(\"This is result of for loop\")\n",
    "for i in range(1,11):\n",
    "    print(i)\n",
    " \n",
    "i=1\n",
    "print(\"This is the result of while loop\")\n",
    "while i<11:\n",
    "    print(i)\n",
    "    i+=1"
   ]
  },
  {
   "cell_type": "code",
   "execution_count": null,
   "id": "7047cbc6",
   "metadata": {},
   "outputs": [],
   "source": [
    "#13. If you had a function named bacon() inside a module named spam, \n",
    "# how would you call it after importing spam?\n",
    "#ANS : spam.bacon()"
   ]
  }
 ],
 "metadata": {
  "kernelspec": {
   "display_name": "Python 3 (ipykernel)",
   "language": "python",
   "name": "python3"
  },
  "language_info": {
   "codemirror_mode": {
    "name": "ipython",
    "version": 3
   },
   "file_extension": ".py",
   "mimetype": "text/x-python",
   "name": "python",
   "nbconvert_exporter": "python",
   "pygments_lexer": "ipython3",
   "version": "3.9.12"
  }
 },
 "nbformat": 4,
 "nbformat_minor": 5
}
