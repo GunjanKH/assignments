{
 "cells": [
  {
   "cell_type": "raw",
   "id": "350aaa49",
   "metadata": {},
   "source": [
    "1. Why are functions advantageous to have in your programs?\n",
    "Ans : Functions could be used multiple times at once. This reduces the redunduncy of code.\n",
    "\n",
    "2. When does the code in a function run: when it&#39;s specified or when it&#39;s called?\n",
    "Ans : When its called.\n",
    "\n",
    "3. What statement creates a function?\n",
    "Ans : def (function name)\n",
    "\n",
    "4. What is the difference between a function and a function call?\n",
    "Ans : we create function using def key word with the name we want to use. function call is done using the name of function and arguments if required.\n",
    "\n",
    "5. How many global scopes are there in a Python program? How many local scopes?\n",
    "Ans: Global scopes means the varible is identified by whole program.If a variable is stuck in local and want to make it global use a keyword \"global\". Local scopes means it is limited to single function although it can be used in a function inside function but not outside a function.\n",
    "\n",
    "6. What happens to variables in a local scope when the function call returns?\n",
    "Ans: it returns the value of variables.\n",
    "\n",
    "7. What is the concept of a return value? Is it possible to have a return value in an expression?\n",
    "Ans: \n",
    "\n",
    "8. If a function does not have a return statement, what is the return value of a call to that function?\n",
    "Ans : if return was not used it either be print or yield. Yield convert function into a generator. print will return none type of data.\n",
    "\n",
    "9. How do you make a function variable refer to the global variable?\n",
    "Ans: By using key word global variable.\n",
    "\n",
    "10. What is the data type of None?\n",
    "Ans: None type\n",
    "\n",
    "11. What does the sentence import areallyourpetsnamederic do?\n",
    "Ans: imports the module name areallyourpetsnamederic.\n",
    "\n",
    "12. If you had a bacon() feature in a spam module, what would you call it after importing spam?\n",
    "Ans: spam.bacon().\n",
    "\n",
    "13. What can you do to save a programme from crashing if it encounters an error?\n",
    "Ans: ctnl + c\n",
    "\n",
    "14. What is the purpose of the try clause? What is the purpose of the except clause?\n",
    "Ans: The code that could potentially cause an error goes in the try clause. The code that executes if an error happens goes in the except clause."
   ]
  }
 ],
 "metadata": {
  "kernelspec": {
   "display_name": "Python 3 (ipykernel)",
   "language": "python",
   "name": "python3"
  },
  "language_info": {
   "codemirror_mode": {
    "name": "ipython",
    "version": 3
   },
   "file_extension": ".py",
   "mimetype": "text/x-python",
   "name": "python",
   "nbconvert_exporter": "python",
   "pygments_lexer": "ipython3",
   "version": "3.9.12"
  }
 },
 "nbformat": 4,
 "nbformat_minor": 5
}
