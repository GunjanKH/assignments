{
 "cells": [
  {
   "cell_type": "raw",
   "id": "53cad58f",
   "metadata": {},
   "source": [
    "1. What are escape characters, and how do you use them?\n",
    "Ans: Escape characters represent characters in string values that would otherwise be difficult or impossible to type into code. like /t --> tab , /n ---> new line\n",
    "\n",
    "2. What do the escape characters n and t stand for?\n",
    "Ans: /t --> tab , /n ---> new line\n",
    "\n",
    "3. What is the way to include backslash characters in a string?\n",
    "Ans: // \n",
    "\n",
    "4. The string \"How's Moving Castle\" is a correct value. Why isn't the single quote character in the word How's not escaped a problem?\n",
    "Ans: Because the string in enclose in double quote \"\".\n",
    "\n",
    "5. How do you write a string of newlines if you don't want to use the n character?\n",
    "Ans: multiline string is valid using triple quote \"\"\"___\"\"\".\n",
    "\n",
    "6. What are the values of the given expressions?\n",
    "'Hello, world!'[1]\n",
    "'Hello, world!'[0:5]\n",
    "'Hello, world!'[:5]\n",
    "'Hello, world!'[3:]\n",
    "Ans : e, 'Hello', 'Hello', 'lo, world!'\n",
    "\n",
    "7. What are the values of the following expressions?\n",
    "'Hello'.upper()------------------------------------'HELLO'\n",
    "'Hello'.upper().isupper()------------------------- True\n",
    "'Hello'.upper().lower()---------------------------'hello'\n",
    "\n",
    "8. What are the values of the following expressions?\n",
    "'Remember, remember, the fifth of July.'.split()\n",
    "'-'.join('There can only one.'.split())\n",
    "Ans:\n",
    "['Remember,', 'remember,', 'the', 'fifth', 'of', 'July.']\n",
    "'There-can-only-one.'\n",
    "\n",
    "\n",
    "9. What are the methods for right-justifying, left-justifying, and centering a string?\n",
    "Ans:rjust(),ljust(),center()\n",
    "\n",
    "10. What is the best way to remove whitespace characters from the start or end?\n",
    "Ans: lstrip(),rstrip()"
   ]
  },
  {
   "cell_type": "code",
   "execution_count": 5,
   "id": "c07f7152",
   "metadata": {},
   "outputs": [
    {
     "data": {
      "text/plain": [
       "'lo, world!'"
      ]
     },
     "execution_count": 5,
     "metadata": {},
     "output_type": "execute_result"
    }
   ],
   "source": [
    "#'Hello, world!'[1]\n",
    "#'Hello, world!'[0:5]\n",
    "#'Hello, world!'[:5]\n",
    "'Hello, world!'[3:]"
   ]
  },
  {
   "cell_type": "code",
   "execution_count": 6,
   "id": "a25e693f",
   "metadata": {},
   "outputs": [
    {
     "data": {
      "text/plain": [
       "'HELLO'"
      ]
     },
     "execution_count": 6,
     "metadata": {},
     "output_type": "execute_result"
    }
   ],
   "source": [
    "'Hello'.upper()"
   ]
  },
  {
   "cell_type": "code",
   "execution_count": 7,
   "id": "b2f0fd63",
   "metadata": {},
   "outputs": [
    {
     "data": {
      "text/plain": [
       "'hello'"
      ]
     },
     "execution_count": 7,
     "metadata": {},
     "output_type": "execute_result"
    }
   ],
   "source": [
    "'Hello'.upper().lower()"
   ]
  },
  {
   "cell_type": "code",
   "execution_count": 8,
   "id": "56a2b3d4",
   "metadata": {},
   "outputs": [
    {
     "data": {
      "text/plain": [
       "['Remember,', 'remember,', 'the', 'fifth', 'of', 'July.']"
      ]
     },
     "execution_count": 8,
     "metadata": {},
     "output_type": "execute_result"
    }
   ],
   "source": [
    "'Remember, remember, the fifth of July.'.split()"
   ]
  },
  {
   "cell_type": "code",
   "execution_count": 9,
   "id": "8e8fbe48",
   "metadata": {},
   "outputs": [
    {
     "data": {
      "text/plain": [
       "'There-can-only-one.'"
      ]
     },
     "execution_count": 9,
     "metadata": {},
     "output_type": "execute_result"
    }
   ],
   "source": [
    "'-'.join('There can only one.'.split())"
   ]
  },
  {
   "cell_type": "code",
   "execution_count": null,
   "id": "fe01ddaa",
   "metadata": {},
   "outputs": [],
   "source": []
  }
 ],
 "metadata": {
  "kernelspec": {
   "display_name": "Python 3 (ipykernel)",
   "language": "python",
   "name": "python3"
  },
  "language_info": {
   "codemirror_mode": {
    "name": "ipython",
    "version": 3
   },
   "file_extension": ".py",
   "mimetype": "text/x-python",
   "name": "python",
   "nbconvert_exporter": "python",
   "pygments_lexer": "ipython3",
   "version": "3.9.12"
  }
 },
 "nbformat": 4,
 "nbformat_minor": 5
}
