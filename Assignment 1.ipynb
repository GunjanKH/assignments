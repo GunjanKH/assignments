{
 "cells": [
  {
   "cell_type": "raw",
   "id": "dff0fec8",
   "metadata": {},
   "source": [
    "1. In the below elements which of them are values or an expression? eg:- values can be integer or string and expressions will be mathematical operators.\n",
    "*                 Expression\n",
    "'hello'           Value\n",
    "-87.8             Value\n",
    "-                 Expression\n",
    "/                 Expression\n",
    "+\t              Expression\n",
    "6                 Value"
   ]
  },
  {
   "cell_type": "raw",
   "id": "57d8195a",
   "metadata": {},
   "source": [
    "2. What is the difference between string and variable?\n",
    "\n",
    "A Variable is a store of information, and a String is a type of information you would store in a Variable."
   ]
  },
  {
   "cell_type": "raw",
   "id": "5a6d0963",
   "metadata": {},
   "source": [
    "3. Describe three different data types.\n",
    "ANS :\n",
    "1. integer ---------- integer use keyword \"int\". int is use to define numbers \n",
    "2. string ----------- String use keyword \"str\". str define between \"\". if you wish to use multilines of data we need to use \"\"\"...\"\"\" to define the data.\n",
    "3. Boolean -------- this used as keeyword \"bool\". Takes only true/false or 1/0 as values.\n"
   ]
  },
  {
   "cell_type": "raw",
   "id": "0ad14ead",
   "metadata": {},
   "source": [
    "4. What is an expression made up of? What do all expressions do?\n",
    "ANS:\n",
    "    An Expression is a combination of values, variables, operators and function calls that always produces \n",
    "    or return a result value. An expression always evaluates to itself.\n"
   ]
  },
  {
   "cell_type": "raw",
   "id": "482f2b64",
   "metadata": {},
   "source": [
    "5. This assignment statements, like spam = 10. What is the difference between an expression and a statement?\n",
    "ANS:\n",
    "An expression is a combination of operators and operands that is interpreted to produce some other value.\n",
    "A Statement is the smallest executable unit of code that has an effect, like creating a variable or displaying a value"
   ]
  },
  {
   "cell_type": "code",
   "execution_count": 1,
   "id": "b727916e",
   "metadata": {},
   "outputs": [
    {
     "data": {
      "text/plain": [
       "23"
      ]
     },
     "execution_count": 1,
     "metadata": {},
     "output_type": "execute_result"
    }
   ],
   "source": [
    "#6. After running the following code, what does the variable bacon contain?\n",
    "bacon = 22\n",
    "bacon + 1"
   ]
  },
  {
   "cell_type": "code",
   "execution_count": 2,
   "id": "d183b085",
   "metadata": {},
   "outputs": [
    {
     "data": {
      "text/plain": [
       "22"
      ]
     },
     "execution_count": 2,
     "metadata": {},
     "output_type": "execute_result"
    }
   ],
   "source": [
    "bacon"
   ]
  },
  {
   "cell_type": "code",
   "execution_count": 3,
   "id": "b93e53b3",
   "metadata": {},
   "outputs": [
    {
     "data": {
      "text/plain": [
       "'spamspamspam'"
      ]
     },
     "execution_count": 3,
     "metadata": {},
     "output_type": "execute_result"
    }
   ],
   "source": [
    "#7. What should the values of the following two terms be?\n",
    "'spam' + 'spamspam'\n",
    "'spam' * 3\n"
   ]
  },
  {
   "cell_type": "raw",
   "id": "c1e6a522",
   "metadata": {},
   "source": [
    "8. Why is eggs a valid variable name while 100 is invalid?\n",
    "ANS:\n",
    "    eggs is variable and 100 is integer value."
   ]
  },
  {
   "cell_type": "raw",
   "id": "6f3767b2",
   "metadata": {},
   "source": [
    "#9. What three functions can be used to get the integer, floating-point number, or string version of a value?\n",
    "int()\n",
    "float()\n",
    "str()\n"
   ]
  },
  {
   "cell_type": "raw",
   "id": "4fbf2517",
   "metadata": {},
   "source": [
    "10. Why does this expression cause an error? How can you fix it?\n",
    "'I have eaten ' + 99 + ' burritos.'\n",
    "ANS :\n",
    "    This is will give error because there are different type of data we are appending here. to solve this we need to make string of the interger like : 'I have eaten ' + '99' + ' burritos'"
   ]
  }
 ],
 "metadata": {
  "kernelspec": {
   "display_name": "Python 3 (ipykernel)",
   "language": "python",
   "name": "python3"
  },
  "language_info": {
   "codemirror_mode": {
    "name": "ipython",
    "version": 3
   },
   "file_extension": ".py",
   "mimetype": "text/x-python",
   "name": "python",
   "nbconvert_exporter": "python",
   "pygments_lexer": "ipython3",
   "version": "3.9.12"
  }
 },
 "nbformat": 4,
 "nbformat_minor": 5
}
